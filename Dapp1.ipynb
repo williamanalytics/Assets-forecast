{
 "cells": [
  {
   "cell_type": "markdown",
   "id": "a9e8646c",
   "metadata": {},
   "source": [
    "### Libraries"
   ]
  },
  {
   "cell_type": "code",
   "execution_count": 5,
   "id": "9ccc77c7",
   "metadata": {},
   "outputs": [],
   "source": [
    "import streamlit as st\n",
    "from datetime import date\n",
    "import yfinance as yf\n",
    "from prophet import Prophet\n",
    "from prophet.plot import plot_plotly\n",
    "from plotly import graph_objs as go\n",
    "import time\n",
    "from PIL import Image\n",
    "from plotly.subplots import make_subplots\n",
    "import plotly as px\n",
    "from prophet.plot import add_changepoints_to_plot"
   ]
  },
  {
   "cell_type": "markdown",
   "id": "c1e706cd",
   "metadata": {},
   "source": [
    "### Header"
   ]
  },
  {
   "cell_type": "code",
   "execution_count": 6,
   "id": "c68d8a84",
   "metadata": {},
   "outputs": [
    {
     "name": "stderr",
     "output_type": "stream",
     "text": [
      "2022-07-13 13:03:01.121 \n",
      "  \u001b[33m\u001b[1mWarning:\u001b[0m to view this Streamlit app on a browser, run it with the following\n",
      "  command:\n",
      "\n",
      "    streamlit run C:\\Users\\anaco\\anaconda3\\envs\\ambvirtual\\lib\\site-packages\\ipykernel_launcher.py [ARGUMENTS]\n"
     ]
    },
    {
     "data": {
      "text/plain": [
       "DeltaGenerator(_root_container=0, _provided_cursor=None, _parent=None, _block_type=None, _form_data=None)"
      ]
     },
     "execution_count": 6,
     "metadata": {},
     "output_type": "execute_result"
    }
   ],
   "source": [
    "st.title(\"Welcome to the predictions prices!\")\n",
    "image = Image.open('BB.jpg')\n",
    "st.image(image)  \n",
    "sel_col, disp_col = st.columns((3, 1 ))\n",
    "st.markdown(\"What is the **''possible''** futures price of the 18 months ahead such as: commodities, stocks, reits, ETFs...\") \n",
    "st.markdown(\"See below some examples just copy & paste the tickers or take a look into the link.\")   "
   ]
  },
  {
   "cell_type": "markdown",
   "id": "8e22167a",
   "metadata": {},
   "source": [
    "### Body"
   ]
  },
  {
   "cell_type": "code",
   "execution_count": null,
   "id": "73a5afa1",
   "metadata": {},
   "outputs": [],
   "source": [
    "st.markdown(\" **Examples**: MSFT, GOOG, GME, GC=F(Ouro), CL=F(Oil), BRFS3.SA, PETR3.SA, ETH-USD...\")\n",
    "           \n",
    "st.write(\"[https://finance.yahoo.com/lookup](https://finance.yahoo.com/lookup)\")"
   ]
  },
  {
   "cell_type": "code",
   "execution_count": null,
   "id": "0e7ef2e4",
   "metadata": {},
   "outputs": [],
   "source": [
    "START = \"2015-01-01\"\n",
    "TODAY = date.today().strftime(\"%Y-%m-%d\")              \n",
    "\n",
    "sel_col, dis_col = st.columns(2)\n",
    "input_feature = sel_col.text_input('Which ticker would you like to type ? Ex: Bitcoin','BTC-USD')\n",
    "               \n",
    "n_month = st.slider(\"Months of predcitions:\", 1 , 18)\n",
    "period = n_month * 30\n",
    "\n",
    "@st.cache\n",
    "def load_data(ticker):\n",
    "    data = yf.download(ticker, START, TODAY)\n",
    "    data.reset_index(inplace=True)\n",
    "    return data\n",
    "\n",
    "data = load_data(input_feature)  \n",
    "    \n",
    "progress = st.progress(0)    \n",
    "for i in range(100):\n",
    "    time.sleep(0.1)\n",
    "    progress.progress(i+1)"
   ]
  },
  {
   "cell_type": "markdown",
   "id": "9f90d3a8",
   "metadata": {},
   "source": [
    "### Forecasting"
   ]
  },
  {
   "cell_type": "code",
   "execution_count": null,
   "id": "df360fbd",
   "metadata": {},
   "outputs": [],
   "source": [
    "df_train = data[['Date', 'Close']]\n",
    "df_train = df_train.rename(columns={\"Date\": \"ds\", \"Close\": \"y\"})"
   ]
  },
  {
   "cell_type": "markdown",
   "id": "c47f2f38",
   "metadata": {},
   "source": [
    "### Training the code"
   ]
  },
  {
   "cell_type": "code",
   "execution_count": null,
   "id": "d89a362c",
   "metadata": {},
   "outputs": [],
   "source": [
    "m = Prophet(weekly_seasonality=True,yearly_seasonality=True)\n",
    "m.fit(df_train)\n",
    "future = m.make_future_dataframe(periods=period, include_history=True)\n",
    "forecast = m.predict(future)"
   ]
  },
  {
   "cell_type": "markdown",
   "id": "ccb18709",
   "metadata": {},
   "source": [
    "### Visualizations and explanations"
   ]
  },
  {
   "cell_type": "code",
   "execution_count": null,
   "id": "dfdb765a",
   "metadata": {},
   "outputs": [],
   "source": [
    "st.subheader(\"Forecast data\")\n",
    "\n",
    "fig = plot_plotly(m, forecast, xlabel='Date', ylabel='Price')\n",
    "st.plotly_chart(fig,  use_container_width=True)\n",
    "\n",
    "st.subheader(\"Forecast Components\")\n",
    "\n",
    "with st.expander(\"Explanation\"):\n",
    "            st.markdown(\"\"\"**Trend**: Shows the information about the where the trend suppose to go.\"\"\")\n",
    "            st.write(\"**Weekly / Yearly**: Shows the asset performance trend in a period of time.\")           \n",
    "\n",
    "fig2 = m.plot_components(forecast)\n",
    "st.write(fig2)"
   ]
  },
  {
   "cell_type": "markdown",
   "id": "155bc254",
   "metadata": {},
   "source": [
    "### Change points"
   ]
  },
  {
   "cell_type": "code",
   "execution_count": null,
   "id": "0abe2ce9",
   "metadata": {},
   "outputs": [],
   "source": [
    "st.subheader('Change Points Plot')\n",
    "st.markdown(' The change points are points that represents rapid changes movements inside the trajectory.')\n",
    "st.markdown(' **Attention**: by default Prophet takes into account only the first 80% of the history.')\n",
    "fig3 = m.plot(forecast)\n",
    "a = add_changepoints_to_plot(fig3.gca(), m, forecast)\n",
    "st.write(fig3)"
   ]
  },
  {
   "cell_type": "markdown",
   "id": "04459a97",
   "metadata": {},
   "source": [
    "### Disclosure"
   ]
  },
  {
   "cell_type": "code",
   "execution_count": null,
   "id": "a22fdec5",
   "metadata": {},
   "outputs": [],
   "source": [
    "st.subheader(\"The Bottom Line\")\n",
    "\n",
    "st.write(\"\"\"\n",
    "    It is a little a bit utopian to be able to see into the future, but the technical analysis offers us the most important concepts in forecasting based on historical \n",
    "    data over price of an asset.\"\"\")\n",
    "\n",
    "st.write(\"\"\" In this project was used Prophet model by Facebook Prophet (Machine Learning).\n",
    "    It is an artificial intelligence based on the idea that systems can learn from data, basically using Fourier series.\"\"\")\n",
    "\n",
    "st.markdown(\"\"\"However, the market is driven by expectations, some announcements affect and move with the sentiment market, investors who have \n",
    "    losses from previous decisions are more likely to be affected by good and bad news alike.\n",
    "    The rational expectations theory suggests that expectations and outcome are linked and the decisions are influenced by all \n",
    "    available informations and experiences from previous mistakes and success.\n",
    "    The Adaptive expectations theory suggest that people who expect price to rise will continue to do so the next period. \"\"\")\n",
    "\n",
    "st.subheader(\"Disclamer:\")\n",
    "\n",
    "st.markdown(\" **This is not financial tool for personal investment decision is only for educational purpose.** \")"
   ]
  }
 ],
 "metadata": {
  "kernelspec": {
   "display_name": "Python 3 (ipykernel)",
   "language": "python",
   "name": "python3"
  },
  "language_info": {
   "codemirror_mode": {
    "name": "ipython",
    "version": 3
   },
   "file_extension": ".py",
   "mimetype": "text/x-python",
   "name": "python",
   "nbconvert_exporter": "python",
   "pygments_lexer": "ipython3",
   "version": "3.9.7"
  }
 },
 "nbformat": 4,
 "nbformat_minor": 5
}
